{
 "cells": [
  {
   "cell_type": "code",
   "execution_count": 38,
   "metadata": {},
   "outputs": [
    {
     "name": "stdout",
     "output_type": "stream",
     "text": [
      "[[0 0 0 ... 0 0 0]\n",
      " [0 0 0 ... 0 0 0]\n",
      " [0 0 0 ... 0 0 0]\n",
      " ...\n",
      " [0 0 0 ... 0 0 0]\n",
      " [0 0 0 ... 0 0 0]\n",
      " [0 0 0 ... 0 0 0]]\n"
     ]
    }
   ],
   "source": [
    "from PIL import Image\n",
    "im = Image.open('../../../ForceInferenceProject/Data/Generated/two_half_spheres.tif')\n",
    "import numpy as np\n",
    "imarray = np.array(im)\n",
    "print(imarray)"
   ]
  },
  {
   "cell_type": "code",
   "execution_count": 42,
   "metadata": {},
   "outputs": [],
   "source": [
    "from skimage import io\n",
    "im = io.imread('../../../ForceInferenceProject/Data/Generated/two_half_spheres.tif')"
   ]
  },
  {
   "cell_type": "code",
   "execution_count": 58,
   "metadata": {},
   "outputs": [
    {
     "data": {
      "text/plain": [
       "((400, 400, 400), 2, dtype('uint8'))"
      ]
     },
     "execution_count": 58,
     "metadata": {},
     "output_type": "execute_result"
    }
   ],
   "source": [
    "im.shape, im.max(), im.dtype\n",
    "# shape: (z,y,x)"
   ]
  },
  {
   "cell_type": "code",
   "execution_count": 57,
   "metadata": {},
   "outputs": [
    {
     "data": {
      "application/vnd.jupyter.widget-view+json": {
       "model_id": "7ed37afc6f804366b1439c56a9b4d02d",
       "version_major": 2,
       "version_minor": 0
      },
      "text/plain": [
       "interactive(children=(IntSlider(value=200, description='z', max=399), Dropdown(description='cmap', index=2, op…"
      ]
     },
     "metadata": {},
     "output_type": "display_data"
    }
   ],
   "source": [
    "import matplotlib.pyplot as plt\n",
    "\n",
    "from ipywidgets import interact\n",
    "\n",
    "@interact(z=(0, im.shape[0]-1, 1),\n",
    "          cmap=['viridis','jet','gray'])\n",
    "def make_plot(z=im.shape[0]//2, cmap='gray'):\n",
    "    plt.figure(figsize=(5,5))\n",
    "    plt.imshow(im[z,:,:], cmap=cmap)\n",
    "    plt.show()"
   ]
  },
  {
   "cell_type": "code",
   "execution_count": 60,
   "metadata": {},
   "outputs": [
    {
     "data": {
      "text/plain": [
       "array([[[100, 100, 100, ..., 100, 100, 100],\n",
       "        [100, 100, 100, ..., 100, 100, 100],\n",
       "        [100, 100, 100, ..., 100, 100, 100],\n",
       "        ...,\n",
       "        [100, 100, 100, ..., 100, 100, 100],\n",
       "        [100, 100, 100, ..., 100, 100, 100],\n",
       "        [100, 100, 100, ..., 100, 100, 100]],\n",
       "\n",
       "       [[100, 100, 100, ..., 100, 100, 100],\n",
       "        [100, 100, 100, ..., 100, 100, 100],\n",
       "        [100, 100, 100, ..., 100, 100, 100],\n",
       "        ...,\n",
       "        [100, 100, 100, ..., 100, 100, 100],\n",
       "        [100, 100, 100, ..., 100, 100, 100],\n",
       "        [100, 100, 100, ..., 100, 100, 100]],\n",
       "\n",
       "       [[100, 100, 100, ..., 100, 100, 100],\n",
       "        [100, 100, 100, ..., 100, 100, 100],\n",
       "        [100, 100, 100, ..., 100, 100, 100],\n",
       "        ...,\n",
       "        [100, 100, 100, ..., 100, 100, 100],\n",
       "        [100, 100, 100, ..., 100, 100, 100],\n",
       "        [100, 100, 100, ..., 100, 100, 100]],\n",
       "\n",
       "       ...,\n",
       "\n",
       "       [[100, 100, 100, ..., 100, 100, 100],\n",
       "        [100, 100, 100, ..., 100, 100, 100],\n",
       "        [100, 100, 100, ..., 100, 100, 100],\n",
       "        ...,\n",
       "        [100, 100, 100, ..., 100, 100, 100],\n",
       "        [100, 100, 100, ..., 100, 100, 100],\n",
       "        [100, 100, 100, ..., 100, 100, 100]],\n",
       "\n",
       "       [[100, 100, 100, ..., 100, 100, 100],\n",
       "        [100, 100, 100, ..., 100, 100, 100],\n",
       "        [100, 100, 100, ..., 100, 100, 100],\n",
       "        ...,\n",
       "        [100, 100, 100, ..., 100, 100, 100],\n",
       "        [100, 100, 100, ..., 100, 100, 100],\n",
       "        [100, 100, 100, ..., 100, 100, 100]],\n",
       "\n",
       "       [[100, 100, 100, ..., 100, 100, 100],\n",
       "        [100, 100, 100, ..., 100, 100, 100],\n",
       "        [100, 100, 100, ..., 100, 100, 100],\n",
       "        ...,\n",
       "        [100, 100, 100, ..., 100, 100, 100],\n",
       "        [100, 100, 100, ..., 100, 100, 100],\n",
       "        [100, 100, 100, ..., 100, 100, 100]]], dtype=uint8)"
      ]
     },
     "execution_count": 60,
     "metadata": {},
     "output_type": "execute_result"
    }
   ],
   "source": [
    "im + 100"
   ]
  },
  {
   "cell_type": "code",
   "execution_count": 61,
   "metadata": {},
   "outputs": [
    {
     "data": {
      "text/plain": [
       "array([[[0, 0, 0, ..., 0, 0, 0],\n",
       "        [0, 0, 0, ..., 0, 0, 0],\n",
       "        [0, 0, 0, ..., 0, 0, 0],\n",
       "        ...,\n",
       "        [0, 0, 0, ..., 0, 0, 0],\n",
       "        [0, 0, 0, ..., 0, 0, 0],\n",
       "        [0, 0, 0, ..., 0, 0, 0]],\n",
       "\n",
       "       [[0, 0, 0, ..., 0, 0, 0],\n",
       "        [0, 0, 0, ..., 0, 0, 0],\n",
       "        [0, 0, 0, ..., 0, 0, 0],\n",
       "        ...,\n",
       "        [0, 0, 0, ..., 0, 0, 0],\n",
       "        [0, 0, 0, ..., 0, 0, 0],\n",
       "        [0, 0, 0, ..., 0, 0, 0]],\n",
       "\n",
       "       [[0, 0, 0, ..., 0, 0, 0],\n",
       "        [0, 0, 0, ..., 0, 0, 0],\n",
       "        [0, 0, 0, ..., 0, 0, 0],\n",
       "        ...,\n",
       "        [0, 0, 0, ..., 0, 0, 0],\n",
       "        [0, 0, 0, ..., 0, 0, 0],\n",
       "        [0, 0, 0, ..., 0, 0, 0]],\n",
       "\n",
       "       ...,\n",
       "\n",
       "       [[0, 0, 0, ..., 0, 0, 0],\n",
       "        [0, 0, 0, ..., 0, 0, 0],\n",
       "        [0, 0, 0, ..., 0, 0, 0],\n",
       "        ...,\n",
       "        [0, 0, 0, ..., 0, 0, 0],\n",
       "        [0, 0, 0, ..., 0, 0, 0],\n",
       "        [0, 0, 0, ..., 0, 0, 0]],\n",
       "\n",
       "       [[0, 0, 0, ..., 0, 0, 0],\n",
       "        [0, 0, 0, ..., 0, 0, 0],\n",
       "        [0, 0, 0, ..., 0, 0, 0],\n",
       "        ...,\n",
       "        [0, 0, 0, ..., 0, 0, 0],\n",
       "        [0, 0, 0, ..., 0, 0, 0],\n",
       "        [0, 0, 0, ..., 0, 0, 0]],\n",
       "\n",
       "       [[0, 0, 0, ..., 0, 0, 0],\n",
       "        [0, 0, 0, ..., 0, 0, 0],\n",
       "        [0, 0, 0, ..., 0, 0, 0],\n",
       "        ...,\n",
       "        [0, 0, 0, ..., 0, 0, 0],\n",
       "        [0, 0, 0, ..., 0, 0, 0],\n",
       "        [0, 0, 0, ..., 0, 0, 0]]], dtype=uint8)"
      ]
     },
     "execution_count": 61,
     "metadata": {},
     "output_type": "execute_result"
    }
   ],
   "source": [
    "for z in range(im.shape[0]):\n",
    "    for y in range(im.shape[1]):\n",
    "        for x in range(im.shape[2]):\n",
    "            im[z,y,x] + 100\n",
    "im"
   ]
  },
  {
   "cell_type": "code",
   "execution_count": 36,
   "metadata": {},
   "outputs": [],
   "source": [
    "def compareAroundList(array,index1,index2):\n",
    "    tempList = []\n",
    "    for w in range(index1-1,index1+2):\n",
    "        for q in range(index2-1,index2+2):\n",
    "            tempList.append(array[index1][index2])\n",
    "    return tempList\n",
    "\n",
    "def findTE(array):\n",
    "    tepoints = []\n",
    "    for y in range(1,len(array)-1):\n",
    "        for x in range(1, len(array[y])-1):\n",
    "            tempList = compareAroundList(array,y,x)\n",
    "            if(len(set(tempList))>3):\n",
    "                listy = [y,x]\n",
    "                tepoints.append(listy)\n",
    "    return tepoints\n",
    "\n"
   ]
  },
  {
   "cell_type": "code",
   "execution_count": 37,
   "metadata": {},
   "outputs": [
    {
     "name": "stdout",
     "output_type": "stream",
     "text": [
      "[]\n"
     ]
    }
   ],
   "source": [
    "print(findTE(imarray))"
   ]
  },
  {
   "cell_type": "code",
   "execution_count": null,
   "metadata": {},
   "outputs": [],
   "source": []
  },
  {
   "cell_type": "code",
   "execution_count": null,
   "metadata": {},
   "outputs": [],
   "source": []
  },
  {
   "cell_type": "code",
   "execution_count": null,
   "metadata": {},
   "outputs": [],
   "source": []
  },
  {
   "cell_type": "code",
   "execution_count": 30,
   "metadata": {},
   "outputs": [
    {
     "name": "stdout",
     "output_type": "stream",
     "text": [
      "\u001b[31mExample_Data_Generation.ipynb\u001b[m\u001b[m*      \u001b[31mtwo_intersecting_spheres.tif\u001b[m\u001b[m*\r\n",
      "\u001b[31mone_sphere.tif\u001b[m\u001b[m*                     \u001b[31mtwo_intersecting_spheres_aniso.tif\u001b[m\u001b[m*\r\n",
      "\u001b[31mone_sphere_aniso.tif\u001b[m\u001b[m*               \u001b[31mtwo_intersecting_spheres_noise.tif\u001b[m\u001b[m*\r\n",
      "\u001b[31mone_sphere_noise.tif\u001b[m\u001b[m*               \u001b[31mtwo_touching_spheres.tif\u001b[m\u001b[m*\r\n",
      "\u001b[31mtwo_half_spheres.tif\u001b[m\u001b[m*               \u001b[31mtwo_touching_spheres_aniso.tif\u001b[m\u001b[m*\r\n",
      "\u001b[31mtwo_half_spheres_aniso.tif\u001b[m\u001b[m*         \u001b[31mtwo_touching_spheres_noise.tif\u001b[m\u001b[m*\r\n",
      "\u001b[31mtwo_half_spheres_noise.tif\u001b[m\u001b[m*\r\n"
     ]
    }
   ],
   "source": [
    "ls ../../../ForceInferenceProject/Data/Generated/two_half_spheres.tif*"
   ]
  },
  {
   "cell_type": "code",
   "execution_count": null,
   "metadata": {},
   "outputs": [],
   "source": []
  }
 ],
 "metadata": {
  "kernelspec": {
   "display_name": "Python 3",
   "language": "python",
   "name": "python3"
  },
  "language_info": {
   "codemirror_mode": {
    "name": "ipython",
    "version": 3
   },
   "file_extension": ".py",
   "mimetype": "text/x-python",
   "name": "python",
   "nbconvert_exporter": "python",
   "pygments_lexer": "ipython3",
   "version": "3.7.3"
  }
 },
 "nbformat": 4,
 "nbformat_minor": 2
}
