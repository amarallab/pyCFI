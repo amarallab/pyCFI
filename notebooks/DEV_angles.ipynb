{
 "cells": [
  {
   "cell_type": "markdown",
   "metadata": {},
   "source": [
    "## Extracting Dihedral Angles at Triple Junctions from Segmentation Stacks"
   ]
  },
  {
   "cell_type": "markdown",
   "metadata": {},
   "source": [
    "### Prep"
   ]
  },
  {
   "cell_type": "code",
   "execution_count": null,
   "metadata": {},
   "outputs": [],
   "source": [
    "### Imports\n",
    "\n",
    "import itertools\n",
    "import numpy as np\n",
    "import matplotlib.pyplot as plt\n",
    "\n",
    "from skimage import io\n",
    "from ipywidgets import interact\n",
    "\n",
    "from mpl_toolkits.mplot3d import Axes3D"
   ]
  },
  {
   "cell_type": "code",
   "execution_count": null,
   "metadata": {},
   "outputs": [],
   "source": [
    "### Load input\n",
    "\n",
    "im = io.imread('../Data/Generated/three_intersecting_spheres_aniso.tif')\n",
    "print(im.dtype, im.shape)"
   ]
  },
  {
   "cell_type": "code",
   "execution_count": null,
   "metadata": {},
   "outputs": [],
   "source": [
    "### Show input segmentations\n",
    "\n",
    "@interact(z=(0, im.shape[0]-1, 1))\n",
    "def show_stack(z=im.shape[0]//2):\n",
    "    plt.figure(figsize=(8,8))\n",
    "    plt.imshow(im[z], cmap='gray')\n",
    "    plt.show()"
   ]
  },
  {
   "cell_type": "markdown",
   "metadata": {},
   "source": [
    "### Identifying Object Outlines"
   ]
  },
  {
   "cell_type": "code",
   "execution_count": null,
   "metadata": {},
   "outputs": [],
   "source": [
    "### Identify outlines by comparing shifted images\n",
    "\n",
    "# Pad the image by 1 voxel on all sides\n",
    "im_pad = np.pad(im, 1, mode='reflect')\n",
    "\n",
    "# Get possible shifts in all directions\n",
    "shifts = itertools.product([0,1], repeat=3)\n",
    "\n",
    "# Check and accumulate differences in shifts\n",
    "outlines = np.zeros_like(im, dtype=np.bool)\n",
    "for shift in shifts:\n",
    "    zs0, ys0, xs0 = [slice(1, None) if s else slice(None) for s in shift]\n",
    "    zs1, ys1, xs1 = [slice(None,-1) if s else slice(None) for s in shift]\n",
    "    comparison = im_pad[zs0, ys0, xs0] != im_pad[zs1, ys1, xs1]\n",
    "    outlines  += comparison[:im.shape[0],  :im.shape[1],  :im.shape[2]]\n",
    "    outlines  += comparison[-im.shape[0]:, -im.shape[1]:, -im.shape[2]:]  # Symmetry\n",
    "    \n",
    "# Re-annotate the cell identities\n",
    "outlines_id = outlines * im\n",
    "\n",
    "# Report\n",
    "print(outlines.dtype, outlines.shape)\n",
    "print(outlines_id.dtype, outlines_id.shape)"
   ]
  },
  {
   "cell_type": "code",
   "execution_count": null,
   "metadata": {},
   "outputs": [],
   "source": [
    "### Show identified outlines\n",
    "\n",
    "@interact(z=(0, im.shape[0]-1, 1))\n",
    "def show_stack(z=im.shape[0]//2):\n",
    "    plt.figure(figsize=(8,8))\n",
    "    plt.imshow(outlines_id[z], cmap='gray')\n",
    "    plt.show()"
   ]
  },
  {
   "cell_type": "markdown",
   "metadata": {},
   "source": [
    "### Identifying Triple Edges and Triple Junctions"
   ]
  },
  {
   "cell_type": "code",
   "execution_count": null,
   "metadata": {},
   "outputs": [],
   "source": [
    "### Find coordinates of all voxels involved in triple junctions\n",
    "\n",
    "# Get coordinates of all cell outline voxels\n",
    "OCs = np.array(np.where(outlines)).T  # OCs <- \"Outline Coordinates\"\n",
    "\n",
    "# Go through outline coordinates (oc) and find TEs\n",
    "TEs = []  # TEs <- \"Triple Edes\"\n",
    "for OC in OCs:\n",
    "    selection = im_pad[OC[0]+1:OC[0]+3, OC[1]+1:OC[1]+3, OC[2]+1:OC[2]+3]\n",
    "    if len(set(selection.flatten())) == 3:\n",
    "        TEs.append(OC+0.5)\n",
    "        \n",
    "# Convert TE list to numpy array\n",
    "TEs = np.array(TEs)"
   ]
  },
  {
   "cell_type": "code",
   "execution_count": null,
   "metadata": {},
   "outputs": [],
   "source": [
    "### Build a dict of TJs structured as: {tuple(cell1_ID, cell2_ID, cell3_ID) : array(TEs, Dimensions)}\n",
    "\n",
    "# Prepare defaultdict\n",
    "from collections import defaultdict\n",
    "TJs = defaultdict(lambda : [[],[],[]])  # TJs <- \"Triple Junctions\"\n",
    "\n",
    "# Go through TEs, create IDs, assign coordinates to IDs\n",
    "for TE in TEs:\n",
    "    selection = im_pad[np.int(TE[0])+1:np.int(TE[0])+3, \n",
    "                       np.int(TE[1])+1:np.int(TE[1])+3, \n",
    "                       np.int(TE[2])+1:np.int(TE[2])+3]\n",
    "    TJ_ID = tuple(sorted(set(selection.flatten())))\n",
    "    TJs[TJ_ID][0].append(TE[0])\n",
    "    TJs[TJ_ID][1].append(TE[1])\n",
    "    TJs[TJ_ID][2].append(TE[2])\n",
    "\n",
    "# Convert TJ lists to numpy arrays\n",
    "for key in TJs.keys():\n",
    "    TJs[key] = np.array(TJs[key]).T"
   ]
  },
  {
   "cell_type": "code",
   "execution_count": null,
   "metadata": {
    "scrolled": false
   },
   "outputs": [],
   "source": [
    "### Show identified TJs on image stack\n",
    "\n",
    "@interact(z=(0, im.shape[0]-1, 1))\n",
    "def show_stack(z=im.shape[0]//2):\n",
    "    \n",
    "    # Prep and plot image\n",
    "    plt.figure(figsize=(8,8))\n",
    "    plt.imshow(outlines_id[z], cmap='gray')\n",
    "    \n",
    "    # For each TJ...\n",
    "    for TJ_num,TJ_ID in enumerate(TJs.keys()):\n",
    "        \n",
    "        # Get the TJs TEs in the selected z plane\n",
    "        TEs_in_plane = TJs[TJ_ID][np.floor(TJs[TJ_ID][:,0])==z]\n",
    "        \n",
    "        # Plot the points (note the curios way of setting the color!)\n",
    "        plt.scatter(TEs_in_plane[:, 2], TEs_in_plane[:, 1],\n",
    "                    c=[TJ_num for _ in range(TEs_in_plane.shape[0])], \n",
    "                    cmap='hsv', vmin=0, vmax=len(TJs), s=20)\n",
    "        \n",
    "    # Finish\n",
    "    plt.show()"
   ]
  },
  {
   "cell_type": "code",
   "execution_count": null,
   "metadata": {},
   "outputs": [],
   "source": [
    "### Show identified TJs as 3D scatter\n",
    "\n",
    "# Prepare the plot\n",
    "fig = plt.figure(figsize=(12,12))\n",
    "ax  = fig.add_subplot(111, projection='3d')\n",
    "\n",
    "# Plot each TJ in a different color\n",
    "for TJ_num,TJ_ID in enumerate(TJs.keys()):\n",
    "    ax.scatter(TJs[TJ_ID][:,2], TJs[TJ_ID][:,1], TJs[TJ_ID][:,0],\n",
    "               c=[TJ_num for _ in range(TJs[TJ_ID].shape[0])], \n",
    "               cmap='hsv', vmin=0, vmax=len(TJs), s=10)\n",
    "\n",
    "## Also show cell outlines [takes several seconds to render!]\n",
    "#ax.scatter([c[2] for c in OCs],\n",
    "#           [c[1] for c in OCs],\n",
    "#           [c[0] for c in OCs],\n",
    "#           c='gray', alpha=0.05, linewidth=0, s=5)\n",
    "\n",
    "# Axis limits\n",
    "ax.set_xlim([0,400])\n",
    "ax.set_ylim([0,400])\n",
    "ax.set_zlim([0,400])  # NOTE: RESULT IS SQUASHED IF RESOLUTION IS NOT CONSIDERED!\n",
    "\n",
    "# Finish\n",
    "plt.show()"
   ]
  },
  {
   "cell_type": "raw",
   "metadata": {},
   "source": [
    "### Useful Data Structures\n",
    "\n",
    "# Triple Edges & Triple Junctions\n",
    "\n",
    "- TEs      = np.array(TEs, Dimensions)                                           # Coordinates of all TEs [done]\n",
    "- TJs      = dict{(cell1_ID, cell2_ID, cell3_ID): np.array(TEs, Dimensions)}     # Access TEs by TJ [done]\n",
    "- cell_TJs = dict{cell_ID : [(cell1_ID, cell2_ID, cell3_ID), ...]}               # Access TJs by cell\n",
    "- z_TEs    = dict{z_plane : [((cell1_ID, cell2_ID, cell3_ID), TE_indices), ...]} # Access TEs by z plane\n",
    "\n",
    "# Outlines & Interfaces \n",
    "\n",
    "- OCs      = np.array(OCs, Dimensions)                               # Coords of all outlines (\"Outline Coordinates\") [done]\n",
    "- ICs      = dict{(cell1_ID, cell2_ID) : np.array(OCs, Dimensions)}  # Access OCs by cell IDS (\"Interface Coordinates\")\n",
    "- cell_ICs = dict{cell_ID : [(cell1_ID, cell2_ID), ...]}             # Access ICs by cell\n",
    "- z_ICs    = dict{z_plane : [((cell1_ID, cell2_ID), OC_indices)...]} # Access ICs by z plane"
   ]
  },
  {
   "cell_type": "markdown",
   "metadata": {},
   "source": [
    "### Spline Fitting"
   ]
  },
  {
   "cell_type": "markdown",
   "metadata": {},
   "source": [
    "*Turns out spline fitting requires the input points to be roughly in order along the spline, which isn't guaranteed in our case. Ordering the points happens to be far harder problem than one might imagine (it's a variation of traveling salesman) but luckily it can be solved quite well with a Breadth-First Search (BFS). This solution is partially inspired by Imanol Luengo's answer to [this SO question](https://stackoverflow.com/questions/37742358/sorting-points-to-form-a-continuous-line).*"
   ]
  },
  {
   "cell_type": "code",
   "execution_count": null,
   "metadata": {},
   "outputs": [],
   "source": [
    "### Get an example TJ\n",
    "\n",
    "TJ = TJs[list(TJs.keys())[0]]"
   ]
  },
  {
   "cell_type": "code",
   "execution_count": null,
   "metadata": {},
   "outputs": [],
   "source": [
    "### Get all pairwise distances\n",
    "\n",
    "import scipy.spatial.distance as ds\n",
    "dists = ds.squareform(ds.pdist(TJ))"
   ]
  },
  {
   "cell_type": "code",
   "execution_count": null,
   "metadata": {},
   "outputs": [],
   "source": [
    "### Plot distance matrix\n",
    "\n",
    "plt.figure(figsize=(8,8))\n",
    "plt.imshow(dists)\n",
    "plt.title(\"distances\")\n",
    "plt.xlabel('TEs')\n",
    "plt.ylabel('TEs')\n",
    "plt.show()"
   ]
  },
  {
   "cell_type": "code",
   "execution_count": null,
   "metadata": {},
   "outputs": [],
   "source": [
    "### Generate graph based on N nearest neighbors\n",
    "\n",
    "# Get nearest neighbors\n",
    "from sklearn.neighbors import NearestNeighbors  # TODO: Replace with scipy kdTRee\n",
    "N_neighbors = 10  # Note: the outcome seems quite robust to this number; still think about how to set this?\n",
    "NN_graph = NearestNeighbors(10).fit(dists).kneighbors_graph()\n",
    "\n",
    "# Create the graph\n",
    "import networkx as nx\n",
    "G = nx.from_scipy_sparse_matrix(NN_graph)\n",
    "nx.is_connected(G)  # TODO: Use this as a sanity check!"
   ]
  },
  {
   "cell_type": "code",
   "execution_count": null,
   "metadata": {
    "scrolled": true
   },
   "outputs": [],
   "source": [
    "### Find BFS tree from all sources\n",
    "\n",
    "all_paths = []\n",
    "all_dsums = []\n",
    "for n in G.nodes():\n",
    "    \n",
    "    # Get BFS tree\n",
    "    path = list(nx.bfs_tree(G, n))\n",
    "    \n",
    "    # Get sum of all distances within tree\n",
    "    dsum = 0.0\n",
    "    for p in range(len(path)-1):\n",
    "        dsum += dists[path[p], path[p+1]]\n",
    "    \n",
    "    # Keep results\n",
    "    all_paths.append(path)\n",
    "    all_dsums.append(dsum)\n",
    "\n",
    "# Select the best solution\n",
    "best_path = all_paths[np.argmin(all_dsums)]\n",
    "sorted_TJ = TJ[best_path]"
   ]
  },
  {
   "cell_type": "code",
   "execution_count": null,
   "metadata": {},
   "outputs": [],
   "source": [
    "### Visualize the sorted result\n",
    "\n",
    "# Get sorted pairwise distances\n",
    "sorted_dists = ds.squareform(ds.pdist(sorted_TJ))\n",
    "\n",
    "# Plot pairwise distances\n",
    "fig, ax = plt.subplots(1, 2, figsize=(13,6.5))\n",
    "ax[0].imshow(sorted_dists)\n",
    "ax[0].set_title(\"sorted distances\")\n",
    "ax[0].set_xlabel('TEs'); ax[0].set_ylabel('TEs')\n",
    "\n",
    "# Plot path/tree on scatter\n",
    "ax[1].scatter(TJ[:,1], TJ[:,0], s=20, alpha=0.5)\n",
    "ax[1].plot(sorted_TJ[:,1], sorted_TJ[:,0], c='r', alpha=0.75)\n",
    "ax[1].set_title(\"path scatter\")\n",
    "ax[1].set_xlabel('y'); ax[1].set_ylabel('z')\n",
    "\n",
    "# Done\n",
    "plt.tight_layout()\n",
    "plt.show()"
   ]
  },
  {
   "cell_type": "raw",
   "metadata": {},
   "source": [
    "### Next Up\n",
    "\n",
    "- Pack the above into a loop for all TJs\n",
    "- Actually run the spline fitting\n",
    "- Interpolate points at regular distances along the spline\n",
    "- Also perform spline fitting on boundaries in sectioning plane\n",
    "- Move on to extract in-plane angles & orthogonal planes"
   ]
  },
  {
   "cell_type": "markdown",
   "metadata": {},
   "source": [
    "### TODO\n",
    "\n",
    "- Brodland approach\n",
    "    - Fit splines to outlines in the image plane\n",
    "    - Identify angles in image plane for each TE *[sort of needed in both]*\n",
    "    - Fit splines to TJs *[needed in both]*\n",
    "    - Find normal plane to TJ-spline at each TE *[needed in both]*\n",
    "    - Project image plane angles onto normal plane\n",
    "    \n",
    "    \n",
    "- Better approach?\n",
    "    - Fit splines to TJs *[needed in both]*\n",
    "    - Find normal plane to TJ-spline at each TE *[needed in both]*\n",
    "    - Identify angles in normal plane for each TE *[sort of needed in both]*"
   ]
  }
 ],
 "metadata": {
  "kernelspec": {
   "display_name": "Python [conda env:py3base]",
   "language": "python",
   "name": "conda-env-py3base-py"
  },
  "language_info": {
   "codemirror_mode": {
    "name": "ipython",
    "version": 3
   },
   "file_extension": ".py",
   "mimetype": "text/x-python",
   "name": "python",
   "nbconvert_exporter": "python",
   "pygments_lexer": "ipython3",
   "version": "3.6.5"
  }
 },
 "nbformat": 4,
 "nbformat_minor": 2
}
