{
 "cells": [
  {
   "cell_type": "code",
   "execution_count": 46,
   "metadata": {},
   "outputs": [],
   "source": [
    "\n",
    "#Check for similarity of values\n",
    "def findTE(array):\n",
    "    teArray=[]\n",
    "    for y in range(1,len(array)-1,1):\n",
    "        for x in range(1,len(array[y])-1,1):\n",
    "            sublist=[array[y][x],array[y+1][x],array[y-1][x],array[y][x+1],array[y][x-1],array[y+1][x+1],array[y+1][x-1],array[y-1][x+1],array[y-1][x-1]]\n",
    "            if (0 in sublist and 1 in sublist and 2 in sublist):\n",
    "                teArray.append([x,y])\n",
    "                sublist=[]\n",
    "    return teArray\n",
    "\n",
    "          \n",
    "            \n",
    "\n",
    "                \n",
    "                         "
   ]
  },
  {
   "cell_type": "raw",
   "metadata": {},
   "source": [
    "import jenks_natural_breaks \n",
    "import numpy as np\n",
    "\n",
    "\n",
    "def goodness_of_variance_fit(array, classes):\n",
    "    # get the break points\n",
    "    classes = jenks_natural_breaks.classify(array, classes)\n",
    "\n",
    "    # do the actual classification\n",
    "    classified = np.array([classify1(i, classes) for i in array])\n",
    "\n",
    "    # max value of zones\n",
    "    maxz = max(classified)\n",
    "\n",
    "    # nested list of zone indices\n",
    "    zone_indices = [[idx for idx, val in enumerate(classified) if zone + 1 == val] for zone in range(maxz)]\n",
    "\n",
    "    # sum of squared deviations from array mean\n",
    "    sdam = np.sum((array - array.mean()) ** 2)\n",
    "\n",
    "    # sorted polygon stats\n",
    "    array_sort = [np.array([array[index] for index in zone]) for zone in zone_indices]\n",
    "\n",
    "    # sum of squared deviations of class means\n",
    "    sdcm = sum([np.sum((classified - classified.mean()) ** 2) for classified in array_sort])\n",
    "\n",
    "    # goodness of variance fit\n",
    "    gvf = (sdam - sdcm) / sdam\n",
    "\n",
    "    return gvf\n",
    "\n",
    "def classify1(value, breaks):\n",
    "    for i in range(1, len(breaks)):\n",
    "        if value < breaks[i]:\n",
    "            return i\n",
    "    return len(breaks) - 1"
   ]
  },
  {
   "cell_type": "code",
   "execution_count": 47,
   "metadata": {},
   "outputs": [],
   "source": [
    "\n",
    "import matplotlib.pyplot as plt\n",
    "from sklearn import cluster\n",
    "from skimage import io \n",
    "imarray=io.imread('../../Generated/two_touching_spheres_aniso.tif')\n",
    "#plt.imshow(imarray[100])\n",
    "#print(findTE(imarray[100]))\n",
    "\n",
    "\n"
   ]
  },
  {
   "cell_type": "code",
   "execution_count": 48,
   "metadata": {},
   "outputs": [
    {
     "name": "stdout",
     "output_type": "stream",
     "text": [
      "CPU times: user 4.2 s, sys: 5.31 ms, total: 4.21 s\n",
      "Wall time: 4.21 s\n"
     ]
    },
    {
     "data": {
      "text/plain": [
       "[[200, 171],\n",
       " [200, 172],\n",
       " [200, 173],\n",
       " [199, 174],\n",
       " [200, 174],\n",
       " [199, 175],\n",
       " [200, 175],\n",
       " [199, 225],\n",
       " [200, 225],\n",
       " [199, 226],\n",
       " [200, 226],\n",
       " [200, 227],\n",
       " [200, 228],\n",
       " [200, 229]]"
      ]
     },
     "execution_count": 48,
     "metadata": {},
     "output_type": "execute_result"
    }
   ],
   "source": [
    "%%time \n",
    "findTE(imarray[100])"
   ]
  },
  {
   "cell_type": "code",
   "execution_count": 20,
   "metadata": {},
   "outputs": [
    {
     "name": "stdout",
     "output_type": "stream",
     "text": [
      "Collecting jenks-natural-breaks\n",
      "  Downloading https://files.pythonhosted.org/packages/16/58/0622d2ba4e2e87e92b3ce7db7f9b93a2667d496837462aadc0e4dca52238/jenks-natural-breaks-0.2.0.tar.gz\n",
      "Requirement already satisfied: cffi>=1.0.0 in /Users/vivek/anaconda3/lib/python3.7/site-packages (from jenks-natural-breaks) (1.12.2)\n",
      "Requirement already satisfied: numpy>=1.13.0 in /Users/vivek/anaconda3/lib/python3.7/site-packages (from jenks-natural-breaks) (1.16.2)\n",
      "Requirement already satisfied: pycparser in /Users/vivek/anaconda3/lib/python3.7/site-packages (from cffi>=1.0.0->jenks-natural-breaks) (2.19)\n",
      "Building wheels for collected packages: jenks-natural-breaks\n",
      "  Building wheel for jenks-natural-breaks (setup.py) ... \u001b[?25ldone\n",
      "\u001b[?25h  Stored in directory: /Users/vivek/Library/Caches/pip/wheels/73/60/15/f982ae8a40ab826ad9c1f1c214f08784b90bd95d3180f1f2ff\n",
      "Successfully built jenks-natural-breaks\n",
      "Installing collected packages: jenks-natural-breaks\n",
      "Successfully installed jenks-natural-breaks-0.2.0\n"
     ]
    }
   ],
   "source": [
    "!pip install jenks-natural-breaks\n"
   ]
  },
  {
   "cell_type": "code",
   "execution_count": 30,
   "metadata": {},
   "outputs": [
    {
     "name": "stdout",
     "output_type": "stream",
     "text": [
      "Help on package jenks_natural_breaks:\n",
      "\n",
      "NAME\n",
      "    jenks_natural_breaks\n",
      "\n",
      "PACKAGE CONTENTS\n",
      "    _jenks_matrices\n",
      "    _jenks_matrices_build\n",
      "\n",
      "SUBMODULES\n",
      "    _lib\n",
      "\n",
      "FUNCTIONS\n",
      "    classify(data, n_classes)\n",
      "\n",
      "VERSION\n",
      "    0.2.0\n",
      "\n",
      "FILE\n",
      "    /Users/vivek/anaconda3/lib/python3.7/site-packages/jenks_natural_breaks/__init__.py\n",
      "\n",
      "\n"
     ]
    }
   ],
   "source": [
    "help(jenks_natural_breaks)"
   ]
  },
  {
   "cell_type": "code",
   "execution_count": 37,
   "metadata": {},
   "outputs": [
    {
     "name": "stdout",
     "output_type": "stream",
     "text": [
      "[1.0, 4.0, 7.0]\n"
     ]
    }
   ],
   "source": []
  },
  {
   "cell_type": "code",
   "execution_count": 38,
   "metadata": {},
   "outputs": [
    {
     "name": "stdout",
     "output_type": "stream",
     "text": [
      "WARNING: The conda.compat module is deprecated and will be removed in a future release.\n",
      "Collecting package metadata: | ^C\n",
      "failed\n",
      "\n",
      "CondaError: KeyboardInterrupt\n",
      "\n"
     ]
    }
   ],
   "source": []
  },
  {
   "cell_type": "code",
   "execution_count": null,
   "metadata": {},
   "outputs": [],
   "source": []
  }
 ],
 "metadata": {
  "kernelspec": {
   "display_name": "Python 3",
   "language": "python",
   "name": "python3"
  },
  "language_info": {
   "codemirror_mode": {
    "name": "ipython",
    "version": 3
   },
   "file_extension": ".py",
   "mimetype": "text/x-python",
   "name": "python",
   "nbconvert_exporter": "python",
   "pygments_lexer": "ipython3",
   "version": "3.7.3"
  }
 },
 "nbformat": 4,
 "nbformat_minor": 2
}
